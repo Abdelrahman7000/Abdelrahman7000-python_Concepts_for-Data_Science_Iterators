{
 "cells": [
  {
   "cell_type": "code",
   "execution_count": 11,
   "id": "94eb5db9",
   "metadata": {},
   "outputs": [
    {
     "name": "stdout",
     "output_type": "stream",
     "text": [
      "red\n",
      "blue\n",
      "yellow\n"
     ]
    }
   ],
   "source": [
    "\n",
    "mylist=['red','blue','yellow']\n",
    "myiterator=iter(mylist)\n",
    "\n",
    "print(next(myiterator))\n",
    "print(next(myiterator))\n",
    "print(next(myiterator))"
   ]
  },
  {
   "cell_type": "code",
   "execution_count": 13,
   "id": "4bd506ee",
   "metadata": {},
   "outputs": [
    {
     "name": "stdout",
     "output_type": "stream",
     "text": [
      "apple\n",
      "orange\n",
      "banana\n"
     ]
    }
   ],
   "source": [
    "mylist3=['apple','orange','banana']\n",
    "for item in iter(mylist3):\n",
    "    print(item)"
   ]
  },
  {
   "cell_type": "code",
   "execution_count": 14,
   "id": "d7eaa7eb",
   "metadata": {},
   "outputs": [
    {
     "name": "stdout",
     "output_type": "stream",
     "text": [
      "apple\n",
      "orange\n",
      "banana\n"
     ]
    }
   ],
   "source": [
    "mylist4=['apple','orange','banana']\n",
    "for item in mylist4:\n",
    "    print(item)"
   ]
  },
  {
   "cell_type": "code",
   "execution_count": 9,
   "id": "e1577000",
   "metadata": {},
   "outputs": [
    {
     "name": "stdout",
     "output_type": "stream",
     "text": [
      "2\n",
      "4\n",
      "6\n",
      "8\n",
      "10\n"
     ]
    }
   ],
   "source": [
    "# creating an iterator for even numbers\n",
    "class Even:\n",
    "    def __init__(self,max):\n",
    "        self.n=2\n",
    "        self.max=max\n",
    "        \n",
    "    def __iter__(self):\n",
    "        return self\n",
    "    \n",
    "    def __next__(self):\n",
    "        if self.n <=self.max:\n",
    "            result=self.n\n",
    "            self.n+=2\n",
    "            return result\n",
    "        else:\n",
    "            raise StopIteration\n",
    "            \n",
    "# We will check if the above code works by creating an object from the Even class and set the maximum number to be 10          \n",
    "nums=Even(10)\n",
    "\n",
    "# we will get the even numbers by iterating over them by the next method \n",
    "print(next(nums))\n",
    "print(next(nums))\n",
    "print(next(nums))\n",
    "print(next(nums))\n",
    "print(next(nums))"
   ]
  },
  {
   "cell_type": "code",
   "execution_count": 10,
   "id": "7e90f304",
   "metadata": {},
   "outputs": [
    {
     "ename": "StopIteration",
     "evalue": "",
     "output_type": "error",
     "traceback": [
      "\u001b[1;31m---------------------------------------------------------------------------\u001b[0m",
      "\u001b[1;31mStopIteration\u001b[0m                             Traceback (most recent call last)",
      "\u001b[1;32m<ipython-input-10-ddf9ec797e52>\u001b[0m in \u001b[0;36m<module>\u001b[1;34m\u001b[0m\n\u001b[1;32m----> 1\u001b[1;33m \u001b[0mprint\u001b[0m\u001b[1;33m(\u001b[0m\u001b[0mnext\u001b[0m\u001b[1;33m(\u001b[0m\u001b[0mnums\u001b[0m\u001b[1;33m)\u001b[0m\u001b[1;33m)\u001b[0m\u001b[1;33m\u001b[0m\u001b[1;33m\u001b[0m\u001b[0m\n\u001b[0m",
      "\u001b[1;32m<ipython-input-9-da5cd2672051>\u001b[0m in \u001b[0;36m__next__\u001b[1;34m(self)\u001b[0m\n\u001b[0;32m     14\u001b[0m             \u001b[1;32mreturn\u001b[0m \u001b[0mresult\u001b[0m\u001b[1;33m\u001b[0m\u001b[1;33m\u001b[0m\u001b[0m\n\u001b[0;32m     15\u001b[0m         \u001b[1;32melse\u001b[0m\u001b[1;33m:\u001b[0m\u001b[1;33m\u001b[0m\u001b[1;33m\u001b[0m\u001b[0m\n\u001b[1;32m---> 16\u001b[1;33m             \u001b[1;32mraise\u001b[0m \u001b[0mStopIteration\u001b[0m\u001b[1;33m\u001b[0m\u001b[1;33m\u001b[0m\u001b[0m\n\u001b[0m\u001b[0;32m     17\u001b[0m \u001b[1;33m\u001b[0m\u001b[0m\n\u001b[0;32m     18\u001b[0m \u001b[1;33m\u001b[0m\u001b[0m\n",
      "\u001b[1;31mStopIteration\u001b[0m: "
     ]
    }
   ],
   "source": [
    "# if we tried to go to the next number we will get stopiteration as we set the maximum number to get is 10\n",
    "print(next(nums))"
   ]
  },
  {
   "cell_type": "code",
   "execution_count": null,
   "id": "156925cb",
   "metadata": {},
   "outputs": [],
   "source": []
  }
 ],
 "metadata": {
  "kernelspec": {
   "display_name": "Python 3",
   "language": "python",
   "name": "python3"
  },
  "language_info": {
   "codemirror_mode": {
    "name": "ipython",
    "version": 3
   },
   "file_extension": ".py",
   "mimetype": "text/x-python",
   "name": "python",
   "nbconvert_exporter": "python",
   "pygments_lexer": "ipython3",
   "version": "3.8.8"
  }
 },
 "nbformat": 4,
 "nbformat_minor": 5
}
